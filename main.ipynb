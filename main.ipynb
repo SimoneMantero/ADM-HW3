{
 "cells": [
  {
   "cell_type": "markdown",
   "metadata": {},
   "source": [
    "## **1. Data Collection**\n",
    "### **1.1. Get the list of Michelin restaurants**"
   ]
  },
  {
   "cell_type": "code",
   "execution_count": 1,
   "metadata": {},
   "outputs": [],
   "source": [
    "import requests\n",
    "from bs4 import BeautifulSoup\n",
    "import os"
   ]
  },
  {
   "cell_type": "code",
   "execution_count": null,
   "metadata": {},
   "outputs": [
    {
     "name": "stdout",
     "output_type": "stream",
     "text": [
      "1983\n"
     ]
    }
   ],
   "source": [
    "headers = {\n",
    "    'User-Agent': 'Mozilla/5.0 (Windows NT 10.0; Win64; x64) AppleWebKit/537.36 (KHTML, like Gecko) Chrome/91.0.4472.124 Safari/537.36'\n",
    "} # user agent is used to simulate that the http request comes from a real web browser, this prevent the server from blocking requests\n",
    "\n",
    "def guide_michelin(): # 2037\n",
    "        links = []\n",
    "        for i in range(1,101): #100\n",
    "            link = \"https://guide.michelin.com/en/it/restaurants/page/{}\".format(i)\n",
    "            try:\n",
    "                response = requests.get(link, headers=headers)\n",
    "            except Exception as e:\n",
    "                print(f\"{e} \\n {link}\")\n",
    "                continue\n",
    "            if response.status_code == 200:\n",
    "                soup = BeautifulSoup(response.text, 'html.parser')\n",
    "                section = soup.find('div', class_=\"row restaurant__list-row js-restaurant__list_items\")\n",
    "                if section:  \n",
    "                    for a_tag in section.find_all('a', href=True):\n",
    "                        href = 'https://guide.michelin.com' + a_tag['href']\n",
    "                        if href not in links and \"/restaurant/\" in href: \n",
    "                            links.append(href)\n",
    "            else:\n",
    "                print(f\"Failed to retrieve page {i}\")                \n",
    "        return links\n",
    "\n",
    "url_set = guide_michelin()\n",
    "print(len(url_set))"
   ]
  },
  {
   "cell_type": "code",
   "execution_count": 3,
   "metadata": {},
   "outputs": [],
   "source": [
    "with open('links.txt', 'w') as f:\n",
    "    for url in url_set:\n",
    "        f.write(url + '\\n')"
   ]
  },
  {
   "cell_type": "markdown",
   "metadata": {},
   "source": [
    "### **1.2. Crawl Michelin restaurant pages**"
   ]
  },
  {
   "cell_type": "code",
   "execution_count": 5,
   "metadata": {},
   "outputs": [
    {
     "name": "stdout",
     "output_type": "stream",
     "text": [
      "HTML documents saved successfully.\n"
     ]
    }
   ],
   "source": [
    "if not os.path.exists('pages'):\n",
    "    os.makedirs('pages')\n",
    "\n",
    "with open('links.txt', 'r') as f:\n",
    "    urls = f.read().splitlines()\n",
    "\n",
    "# Create directories and save HTML documents\n",
    "for index, url in enumerate(urls):\n",
    "    page_number = index // 20 + 1\n",
    "    directory = os.path.join('pages', f'page_{page_number}')\n",
    "    if not os.path.exists(directory):\n",
    "        os.makedirs(directory)\n",
    "    try:\n",
    "        response = requests.get(url, headers=headers)\n",
    "        if response.status_code == 200:\n",
    "            file_path = os.path.join(directory, f'document_{index + 1}.html')\n",
    "            with open(file_path, 'w', encoding='utf-8') as file:\n",
    "                file.write(response.text)\n",
    "        else:\n",
    "            print(f\"Failed to retrieve {url}\")\n",
    "    except Exception as e:\n",
    "        print(f\"Error fetching {url}: {e}\")\n",
    "\n",
    "print(\"HTML documents saved successfully.\")"
   ]
  }
 ],
 "metadata": {
  "kernelspec": {
   "display_name": "ds",
   "language": "python",
   "name": "python3"
  },
  "language_info": {
   "codemirror_mode": {
    "name": "ipython",
    "version": 3
   },
   "file_extension": ".py",
   "mimetype": "text/x-python",
   "name": "python",
   "nbconvert_exporter": "python",
   "pygments_lexer": "ipython3",
   "version": "3.12.7"
  }
 },
 "nbformat": 4,
 "nbformat_minor": 2
}
